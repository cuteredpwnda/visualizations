{
 "cells": [
  {
   "attachments": {},
   "cell_type": "markdown",
   "metadata": {},
   "source": [
    "# Falschparker in Aachen, Daten von 2021\n",
    "\n",
    "Danke an die anonyme Person die bei Frag den Staat die Nerven hat, die Stadt zu fragen: [Anfrage](https://fragdenstaat.de/anfrage/rohdaten-der-ordnungswidrigkeiten-im-ruhenden-verkehr-2022-1/)\n"
   ]
  },
  {
   "cell_type": "code",
   "execution_count": 1,
   "metadata": {},
   "outputs": [
    {
     "data": {
      "text/plain": [
       "True"
      ]
     },
     "execution_count": 1,
     "metadata": {},
     "output_type": "execute_result"
    }
   ],
   "source": [
    "import pandas as pd\n",
    "from helper import clean_data, batch_geocode\n",
    "from dotenv import load_dotenv\n",
    "\n",
    "load_dotenv()"
   ]
  },
  {
   "cell_type": "code",
   "execution_count": 2,
   "metadata": {},
   "outputs": [],
   "source": [
    "# Read data\n",
    "df = pd.read_csv(\"data/statistik.csv\", sep=\";\")\n",
    "\n",
    "# Clean data\n",
    "df = clean_data(df)"
   ]
  },
  {
   "cell_type": "code",
   "execution_count": 5,
   "metadata": {},
   "outputs": [
    {
     "name": "stdout",
     "output_type": "stream",
     "text": [
      "(161166, 10) Index(['Aktenzeichen', 'Tattag', 'Zeit', 'Tatort 2', 'Tatb-Nr.',\n",
      "       'Verwarn-/Bußgeld', 'poi', 'street', 'number', 'clean_address'],\n",
      "      dtype='object')\n",
      "16173\n"
     ]
    }
   ],
   "source": [
    "print(df.shape, df.columns)\n",
    "df.dropna(subset=[\"clean_address\"], inplace=True)\n",
    "# check how many unique addresses there are\n",
    "print(len(df[\"clean_address\"].unique()))\n",
    "# Geocode data\n",
    "df = batch_geocode(df)\n",
    "#df.to_csv(\"data/statistik_geocoded.csv\", index=False)\n"
   ]
  },
  {
   "cell_type": "code",
   "execution_count": null,
   "metadata": {},
   "outputs": [],
   "source": []
  }
 ],
 "metadata": {
  "kernelspec": {
   "display_name": "Python 3",
   "language": "python",
   "name": "python3"
  },
  "language_info": {
   "codemirror_mode": {
    "name": "ipython",
    "version": 3
   },
   "file_extension": ".py",
   "mimetype": "text/x-python",
   "name": "python",
   "nbconvert_exporter": "python",
   "pygments_lexer": "ipython3",
   "version": "3.10.1"
  },
  "orig_nbformat": 4,
  "vscode": {
   "interpreter": {
    "hash": "683e9bbf599fde3b00e37a0db68ad40a268db525b46af3924c3427b16ddb8792"
   }
  }
 },
 "nbformat": 4,
 "nbformat_minor": 2
}
