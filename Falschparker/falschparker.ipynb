{
 "cells": [
  {
   "attachments": {},
   "cell_type": "markdown",
   "metadata": {},
   "source": [
    "# Falschparker in Aachen, Daten von 2021\n",
    "\n",
    "Danke an die anonyme Person die bei Frag den Staat die Nerven hat, die Stadt zu fragen: [Anfrage](https://fragdenstaat.de/anfrage/rohdaten-der-ordnungswidrigkeiten-im-ruhenden-verkehr-2022-1/)\n"
   ]
  },
  {
   "cell_type": "code",
   "execution_count": 1,
   "metadata": {},
   "outputs": [
    {
     "name": "stderr",
     "output_type": "stream",
     "text": [
      "c:\\Users\\jonas\\AppData\\Local\\Programs\\Python\\Python310\\lib\\site-packages\\tqdm\\auto.py:22: TqdmWarning: IProgress not found. Please update jupyter and ipywidgets. See https://ipywidgets.readthedocs.io/en/stable/user_install.html\n",
      "  from .autonotebook import tqdm as notebook_tqdm\n"
     ]
    },
    {
     "data": {
      "text/plain": [
       "True"
      ]
     },
     "execution_count": 1,
     "metadata": {},
     "output_type": "execute_result"
    }
   ],
   "source": [
    "import os\n",
    "import pandas as pd\n",
    "import numpy as np\n",
    "from helper import clean_data, batch_geocode\n",
    "from dotenv import load_dotenv\n",
    "from tqdm import tqdm\n",
    "load_dotenv()"
   ]
  },
  {
   "cell_type": "code",
   "execution_count": 2,
   "metadata": {},
   "outputs": [
    {
     "name": "stdout",
     "output_type": "stream",
     "text": [
      "   Aktenzeichen      Tattag   Zeit                      Tatort 2  Tatb-Nr.  \\\n",
      "0      95026408  01.01.2022  10:40            Martelenberger Weg    112050   \n",
      "1      95026419  01.01.2022  12:28                 Elsassplatz 8    141310   \n",
      "2      95026418  01.01.2022  12:48                 Elsassplatz 4    141310   \n",
      "3      95026465  01.01.2022  13:43           Lütticher Straße 23    142671   \n",
      "4      95026410  01.01.2022  15:20  Aachen-Haaren, jüd. Ehrenmal    141164   \n",
      "\n",
      "   Verwarn-/Bußgeld            poi              street number  \\\n",
      "0                50           None  Martelenberger Weg          \n",
      "1                20           None         Elsassplatz      8   \n",
      "2                20           None         Elsassplatz      4   \n",
      "3                70           None    Lütticher Straße     23   \n",
      "4                55  jüd. Ehrenmal       Aachen-Haaren          \n",
      "\n",
      "         clean_address  \n",
      "0   Martelenberger Weg  \n",
      "1        Elsassplatz 8  \n",
      "2        Elsassplatz 4  \n",
      "3  Lütticher Straße 23  \n",
      "4        Aachen-Haaren  \n",
      "(161166, 10)\n"
     ]
    }
   ],
   "source": [
    "# Read data\n",
    "df = pd.read_csv(\"data/statistik.csv\", sep=\";\")\n",
    "\n",
    "# Clean data\n",
    "df = clean_data(df)\n",
    "print(df.head())\n",
    "print(df.shape)"
   ]
  },
  {
   "cell_type": "code",
   "execution_count": 4,
   "metadata": {},
   "outputs": [
    {
     "name": "stdout",
     "output_type": "stream",
     "text": [
      "Unique addresses: 16155\n",
      "Found cached results. Reading from pickle to continue geocoding.\n",
      "Found 442 results in cache.\n",
      "Found 160723 addresses that are not in the cache.\n",
      "Found a csv with the results. Reading from csv to continue geocoding.\n",
      "Found 102 results in csv.\n",
      "Found 160723 addresses that are not in the csv.\n",
      "Split df into 10000 batches of ~17 elements.\n"
     ]
    },
    {
     "name": "stderr",
     "output_type": "stream",
     "text": [
      "  0%|          | 2/10000 [00:30<42:55:11, 15.45s/it]"
     ]
    }
   ],
   "source": [
    "df.dropna(subset=[\"clean_address\"], inplace=True)\n",
    "\n",
    "# check how many unique addresses there are\n",
    "uni = len(df[\"clean_address\"].unique())\n",
    "print(f\"Unique addresses: {uni}\")\n",
    "\n",
    "# create a df to store the results and pick up where we left off\n",
    "cache_path = \"data/cached_results.pkl\"\n",
    "if not os.path.exists(cache_path):\n",
    "    res_df = pd.DataFrame()\n",
    "else:\n",
    "    print(\"Found cached results. Reading from pickle to continue geocoding.\")\n",
    "    res_df = pd.read_pickle(cache_path)\n",
    "    print(f\"Found {len(res_df)} results in cache.\")\n",
    "    df = df[~df[\"Aktenzeichen\"].isin(res_df[\"Aktenzeichen\"])]\n",
    "    print(f\"Found {len(df)} addresses that are not in the cache.\")\n",
    "\n",
    "# check if we already have a csv with the results    \n",
    "if os.path.exists(\"data/statistik_geocoded.csv\"):\n",
    "    print(\"Found a csv with the results. Reading from csv to continue geocoding.\")\n",
    "    csv_df = pd.read_csv(\"data/statistik_geocoded.csv\")\n",
    "    print(f\"Found {len(csv_df)} results in csv.\")\n",
    "    df = df[~df[\"Aktenzeichen\"].isin(csv_df[\"Aktenzeichen\"])]\n",
    "    print(f\"Found {len(df)} addresses that are not in the csv.\")\n",
    "    res_df = pd.concat([res_df, csv_df], ignore_index=True).drop_duplicates(subset=\"Aktenzeichen\")\n",
    "\n",
    "# create batches\n",
    "parts = np.array_split(df, 10000)\n",
    "print(f'Split df into {len(parts)} batches of ~{len(parts[0])} elements.')\n",
    "# Geocode data in batches\n",
    "tqdm.pandas()\n",
    "for part in tqdm(parts):\n",
    "    temp = part.copy()\n",
    "    res_df = pd.concat([res_df, batch_geocode(temp)], ignore_index=True).drop_duplicates(subset=\"Aktenzeichen\")\n",
    "    # save results after each batch to continue where we left off\n",
    "    res_df.to_pickle(cache_path)\n",
    "res_df.to_csv(\"data/statistik_geocoded.csv\", index=False)\n",
    "\n",
    "# remove cache when done\n",
    "os.remove(cache_path)\n",
    "\n",
    "print(res_df.shape)\n",
    "print(res_df[['Aktenzeichen', 'lat', 'lon']].head())"
   ]
  },
  {
   "cell_type": "code",
   "execution_count": null,
   "metadata": {},
   "outputs": [],
   "source": []
  },
  {
   "cell_type": "code",
   "execution_count": null,
   "metadata": {},
   "outputs": [],
   "source": []
  }
 ],
 "metadata": {
  "kernelspec": {
   "display_name": "Python 3",
   "language": "python",
   "name": "python3"
  },
  "language_info": {
   "codemirror_mode": {
    "name": "ipython",
    "version": 3
   },
   "file_extension": ".py",
   "mimetype": "text/x-python",
   "name": "python",
   "nbconvert_exporter": "python",
   "pygments_lexer": "ipython3",
   "version": "3.10.1"
  },
  "orig_nbformat": 4,
  "vscode": {
   "interpreter": {
    "hash": "683e9bbf599fde3b00e37a0db68ad40a268db525b46af3924c3427b16ddb8792"
   }
  }
 },
 "nbformat": 4,
 "nbformat_minor": 2
}
